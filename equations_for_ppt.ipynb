{
 "cells": [
  {
   "attachments": {},
   "cell_type": "markdown",
   "metadata": {},
   "source": [
    "\\begin{align}\n",
    "% Expectation symbol\n",
    "\\DeclareMathOperator*{\\E}{\\mathbb{E}}\n",
    "\\DeclareMathOperator*{\\L}{\\mathcal{L}}\n",
    "\\end{align}\n",
    "\n",
    "$$ \\L(q)=\\E_{z∼q(z|x)}\\mathrm{log}\\ p_{\\mathrm{model}}(z|x)-D_{KL}(q(z|x)||p_{\\mathrm{model}}(z)) $$"
   ]
  },
  {
   "cell_type": "code",
   "execution_count": null,
   "metadata": {},
   "outputs": [],
   "source": []
  }
 ],
 "metadata": {
  "language_info": {
   "name": "python"
  },
  "orig_nbformat": 4
 },
 "nbformat": 4,
 "nbformat_minor": 2
}
