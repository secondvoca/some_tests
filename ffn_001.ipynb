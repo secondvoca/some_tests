{
 "cells": [
  {
   "attachments": {},
   "cell_type": "markdown",
   "metadata": {},
   "source": [
    "# back-propagation\n",
    "- $\\nabla_{\\theta}J(\\theta)$\n",
    "\\begin{align}\n",
    "\\frac{\\partial z}{\\partial x_i}&=\\sum_{j}\\frac{\\partial z}{\\partial y_j}\\frac{\\partial y_j}{\\partial x_i} \\\\\n",
    "\\nabla_{\\textbf{\\textit{x}}}z &= \\left( \\frac{\\partial \\textbf{\\textit{y}}}{\\partial \\textbf{\\textit{x}}} \\right)^T \\nabla_{\\textbf{\\textit{y}}}z\n",
    "\\end{align}"
   ]
  },
  {
   "cell_type": "code",
   "execution_count": 1,
   "metadata": {},
   "outputs": [],
   "source": [
    "import torch"
   ]
  },
  {
   "cell_type": "code",
   "execution_count": 6,
   "metadata": {},
   "outputs": [
    {
     "name": "stdout",
     "output_type": "stream",
     "text": [
      "16.0\n"
     ]
    }
   ],
   "source": [
    "x = torch.tensor([1.0], requires_grad=True)\n",
    "y = 3*x**2 + 2*x\n",
    "g = 2*y\n",
    "g.backward()\n",
    "print(x.grad.data.item())"
   ]
  },
  {
   "cell_type": "code",
   "execution_count": null,
   "metadata": {},
   "outputs": [],
   "source": []
  },
  {
   "cell_type": "code",
   "execution_count": null,
   "metadata": {},
   "outputs": [],
   "source": []
  },
  {
   "cell_type": "code",
   "execution_count": null,
   "metadata": {},
   "outputs": [],
   "source": []
  },
  {
   "cell_type": "code",
   "execution_count": null,
   "metadata": {},
   "outputs": [],
   "source": []
  },
  {
   "attachments": {},
   "cell_type": "markdown",
   "metadata": {},
   "source": [
    "# hidden units"
   ]
  },
  {
   "cell_type": "code",
   "execution_count": 12,
   "metadata": {},
   "outputs": [],
   "source": [
    "import torch\n",
    "from torch import nn\n",
    "\n",
    "import matplotlib.pyplot as plt"
   ]
  },
  {
   "cell_type": "code",
   "execution_count": 9,
   "metadata": {},
   "outputs": [
    {
     "name": "stdout",
     "output_type": "stream",
     "text": [
      "tensor([-0.0344,  0.3709,  1.2956], requires_grad=True)\n",
      "tensor([0.0000, 0.3709, 1.2956], grad_fn=<ReluBackward0>)\n"
     ]
    }
   ],
   "source": [
    "layer = nn.ReLU()\n",
    "x = torch.randn(3, requires_grad=True)\n",
    "print(x)\n",
    "y = layer(x)\n",
    "print(y)"
   ]
  },
  {
   "cell_type": "code",
   "execution_count": 10,
   "metadata": {},
   "outputs": [
    {
     "name": "stdout",
     "output_type": "stream",
     "text": [
      "tensor([-0.0086,  0.3709,  1.2956], grad_fn=<PreluBackward0>)\n"
     ]
    }
   ],
   "source": [
    "layer = nn.PReLU()\n",
    "y = layer(x)\n",
    "print(y)"
   ]
  },
  {
   "attachments": {},
   "cell_type": "markdown",
   "metadata": {},
   "source": [
    "- $tanh(z)=2\\sigma(2z)-1$"
   ]
  },
  {
   "cell_type": "code",
   "execution_count": 15,
   "metadata": {},
   "outputs": [
    {
     "data": {
      "text/plain": [
       "[<matplotlib.lines.Line2D at 0x7f462fc25e80>]"
      ]
     },
     "execution_count": 15,
     "metadata": {},
     "output_type": "execute_result"
    },
    {
     "data": {
      "image/png": "[encoded data removed]",
      "text/plain": [
       "<Figure size 640x480 with 1 Axes>"
      ]
     },
     "metadata": {},
     "output_type": "display_data"
    }
   ],
   "source": [
    "x = torch.linspace(-5, 5, 201)\n",
    "y1 = nn.Sigmoid()(x * 2) * 2 - 1\n",
    "y2 = nn.Tanh()(x)\n",
    "plt.plot(x, y1)\n",
    "plt.plot(x, y2)"
   ]
  },
  {
   "cell_type": "code",
   "execution_count": 34,
   "metadata": {},
   "outputs": [
    {
     "name": "stdout",
     "output_type": "stream",
     "text": [
      "tensor([0.1942, 0.6709], grad_fn=<PreluBackward0>)\n"
     ]
    }
   ],
   "source": []
  },
  {
   "cell_type": "code",
   "execution_count": 1,
   "metadata": {},
   "outputs": [],
   "source": [
    "import torch as T\n",
    "\n",
    "class Maxout(T.nn.Module):\n",
    "    \"\"\"Class Maxout implements maxout unit introduced in paper by Goodfellow et al, 2013.\n",
    "    \n",
    "    :param in_feature: Size of each input sample.\n",
    "    :param out_feature: Size of each output sample.\n",
    "    :param n_channels: The number of linear pieces used to make each maxout unit.\n",
    "    :param bias: If set to False, the layer will not learn an additive bias.\n",
    "    \"\"\"\n",
    "    \n",
    "    def __init__(self, in_features, out_features, n_channels, bias=True):\n",
    "        super().__init__()\n",
    "        \n",
    "        self.in_features = in_features\n",
    "        self.out_features = out_features\n",
    "        self.n_channels = n_channels\n",
    "        self.weight = T.nn.Parameter(T.Tensor(n_channels * out_features, in_features))\n",
    "        \n",
    "        if bias:\n",
    "            self.bias = T.nn.Parameter(T.Tensor(n_channels * out_features))\n",
    "        else:\n",
    "            self.register_parameter('bias', None)\n",
    "            \n",
    "        self.reset_parameters()\n",
    "    \n",
    "    def forward(self, input):\n",
    "        a = T.nn.functional.linear(input, self.weight, self.bias)\n",
    "        b = T.nn.functional.max_pool1d(a.unsqueeze(-3), kernel_size=self.n_channels)\n",
    "        return b.squeeze()\n",
    "    \n",
    "    def reset_parameters(self):\n",
    "        irange = 0.005\n",
    "        T.nn.init.uniform_(self.weight, -irange, irange)\n",
    "        if self.bias is not None:\n",
    "            T.nn.init.uniform_(self.bias, -irange, irange)\n",
    "    \n",
    "    def extra_repr(self):\n",
    "        return (f'in_features={self.in_features}, '\n",
    "                f'out_features={self.out_features}, '\n",
    "                f'n_channels={self.n_channels}, '\n",
    "                f'bias={self.bias is not None}')"
   ]
  },
  {
   "cell_type": "code",
   "execution_count": 5,
   "metadata": {},
   "outputs": [
    {
     "name": "stdout",
     "output_type": "stream",
     "text": [
      "tensor([[ 0.0037,  0.0089, -0.0006],\n",
      "        [ 0.0075,  0.0221, -0.0072],\n",
      "        [ 0.0082,  0.0447, -0.0213]], grad_fn=<SqueezeBackward0>)\n"
     ]
    }
   ],
   "source": [
    "layer = Maxout(2, 3, 1)\n",
    "x = T.tensor([\n",
    "  [1,2],\n",
    "  [4,5],\n",
    "  [9,8],\n",
    "], dtype=T.float)\n",
    "print(layer(x))"
   ]
  },
  {
   "cell_type": "code",
   "execution_count": null,
   "metadata": {},
   "outputs": [],
   "source": []
  },
  {
   "cell_type": "code",
   "execution_count": null,
   "metadata": {},
   "outputs": [],
   "source": []
  },
  {
   "cell_type": "code",
   "execution_count": null,
   "metadata": {},
   "outputs": [],
   "source": []
  },
  {
   "attachments": {},
   "cell_type": "markdown",
   "metadata": {},
   "source": [
    "# probability"
   ]
  },
  {
   "cell_type": "code",
   "execution_count": 1,
   "metadata": {},
   "outputs": [],
   "source": [
    "import torch"
   ]
  },
  {
   "cell_type": "code",
   "execution_count": 17,
   "metadata": {},
   "outputs": [
    {
     "name": "stdout",
     "output_type": "stream",
     "text": [
      "0.04363635182380676\n"
     ]
    }
   ],
   "source": [
    "mu, sigma = 0.0, 1.0\n",
    "model = torch.distributions.Normal(mu, sigma)\n",
    "sample = model.sample([1000])\n",
    "print(sample.mean().item())"
   ]
  },
  {
   "cell_type": "code",
   "execution_count": 18,
   "metadata": {},
   "outputs": [
    {
     "name": "stdout",
     "output_type": "stream",
     "text": [
      "nll: 1467.860107421875, mu: 0.043637342751026154, grad: 0.0009937286376953125\n"
     ]
    }
   ],
   "source": [
    "mu = torch.rand(1, requires_grad=True)\n",
    "lr = 0.00001\n",
    "for _ in range(10000):\n",
    "  tmp_model = torch.distributions.Normal(mu, sigma)\n",
    "  NLL = -tmp_model.log_prob(sample).sum()\n",
    "  NLL.backward()\n",
    "\n",
    "  if mu.grad.data.item() < 1e-3:\n",
    "    print(f'nll: {NLL.item()}, mu: {mu.item()}, grad: {mu.grad.data.item()}')\n",
    "    break\n",
    "\n",
    "  mu.data -= lr * mu.grad.data\n",
    "  mu.grad.data.zero_()"
   ]
  },
  {
   "cell_type": "code",
   "execution_count": 19,
   "metadata": {},
   "outputs": [
    {
     "name": "stdout",
     "output_type": "stream",
     "text": [
      "-1.1444091796875e-05\n"
     ]
    }
   ],
   "source": [
    "mu = torch.autograd.Variable(sample.mean(), requires_grad=True)\n",
    "tmp_model = torch.distributions.Normal(mu, sigma)\n",
    "NLL = -tmp_model.log_prob(sample).sum()\n",
    "NLL.backward()\n",
    "\n",
    "print(mu.grad.data.item())"
   ]
  },
  {
   "cell_type": "code",
   "execution_count": null,
   "metadata": {},
   "outputs": [],
   "source": []
  }
 ],
 "metadata": {
  "kernelspec": {
   "display_name": "torch",
   "language": "python",
   "name": "python3"
  },
  "language_info": {
   "codemirror_mode": {
    "name": "ipython",
    "version": 3
   },
   "file_extension": ".py",
   "mimetype": "text/x-python",
   "name": "python",
   "nbconvert_exporter": "python",
   "pygments_lexer": "ipython3",
   "version": "3.9.15"
  },
  "orig_nbformat": 4
 },
 "nbformat": 4,
 "nbformat_minor": 2
}
